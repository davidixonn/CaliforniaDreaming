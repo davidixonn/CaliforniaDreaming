{
 "cells": [
  {
   "cell_type": "code",
   "execution_count": 26,
   "metadata": {},
   "outputs": [],
   "source": [
    "# import dependencies\n",
    "#import matplotlib.pyplot as plt\n",
    "import pandas as pd\n",
    "import csv\n",
    "#import numpy as np\n",
    "#import requests\n",
    "#import time\n",
    "#from scipy.stats import linregress"
   ]
  },
  {
   "cell_type": "code",
   "execution_count": 27,
   "metadata": {},
   "outputs": [],
   "source": [
    "# Import api keys \n",
    "#from config import #api key from config.py\n",
    "\n",
    "# Import citipy to determine the cities based on latitude and longitude\n",
    "#from citipy import citipy"
   ]
  },
  {
   "cell_type": "code",
   "execution_count": 28,
   "metadata": {},
   "outputs": [],
   "source": [
    "# create path to csv files needed\n",
    "median_detached_homes = pd.read_csv(r\"C:\\Users\\Louie\\uci\\project1\\MedianPricesofExistingDetachedHomesHistoricalData_clean.csv\")"
   ]
  },
  {
   "cell_type": "code",
   "execution_count": 29,
   "metadata": {},
   "outputs": [],
   "source": [
    "housing_df = pd.DataFrame(median_detached_homes)\n",
    "#for row in housing_df.index:\n",
    "    #print(row, end = \" \")\n",
    "\n",
    "\n",
    "#housing_f = housing_df.iloc[6:]\n",
    "#housing_df\n",
    "#print(housing_df.columns.tolist())"
   ]
  },
  {
   "cell_type": "code",
   "execution_count": 30,
   "metadata": {},
   "outputs": [
    {
     "name": "stdout",
     "output_type": "stream",
     "text": [
      "['county_name', 'region', 'location1', 'location2', '1/1/2010', '2/1/2010', '3/1/2010', '4/1/2010', '5/1/2010', '6/1/2010', '7/1/2010', '8/1/2010', '9/1/2010', '10/1/2010', '11/1/2010', '12/1/2010', '1/1/2011', '2/1/2011', '3/1/2011', '4/1/2011', '5/1/2011', '6/1/2011', '7/1/2011', '8/1/2011', '9/1/2011', '10/1/2011', '11/1/2011', '12/1/2011', '1/1/2012', '2/1/2012', '3/1/2012', '4/1/2012', '5/1/2012', '6/1/2012', '7/1/2012', '8/1/2012', '9/1/2012', '10/1/2012', '11/1/2012', '12/1/2012', '1/1/2013', '2/1/2013', '3/1/2013', '4/1/2013', '5/1/2013', '6/1/2013', '7/1/2013', '8/1/2013', '9/1/2013', '10/1/2013', '11/1/2013', '12/1/2013', '1/1/2014', '2/1/2014', '3/1/2014', '4/1/2014', '5/1/2014', '6/1/2014', '7/1/2014', '8/1/2014', '9/1/2014', '10/1/2014', '11/1/2014', '12/1/2014', '1/1/2015', '2/1/2015', '3/1/2015', '4/1/2015', '5/1/2015', '6/1/2015', '7/1/2015', '8/1/2015', '9/1/2015', '10/1/2015', '11/1/2015', '12/1/2015', '1/1/2016', '2/1/2016', '3/1/2016', '4/1/2016', '5/1/2016', '6/1/2016', '7/1/2016', '8/1/2016', '9/1/2016', '10/1/2016', '11/1/2016', '12/1/2016', '1/1/2017', '2/1/2017', '3/1/2017', '4/1/2017', '5/1/2017', '6/1/2017', '7/1/2017', '8/1/2017', '9/1/2017', '10/1/2017', '11/1/2017', '12/1/2017', '1/1/2018', '2/1/2018', '3/1/2018', '4/1/2018', '5/1/2018', '6/1/2018', '7/1/2018', '8/1/2018', '9/1/2018', '10/1/2018', '11/1/2018', '12/1/2018', '1/1/2019', '2/1/2019', '3/1/2019', '4/1/2019', '5/1/2019', '6/1/2019', '7/1/2019', '8/1/2019', '9/1/2019', '10/1/2019', '11/1/2019', '12/1/2019', '1/1/2020', '2/1/2020', '3/1/2020', '4/1/2020', '5/1/2020', '6/1/2020', '7/1/2020', '8/1/2020', '9/1/2020', '10/1/2020', '11/1/2020', '12/1/2020', '1/1/2021', '2/1/2021', '3/1/2021', '4/1/2021', '5/1/2021', '6/1/2021', '7/1/2021', '8/1/2021', '9/1/2021', '10/1/2021', '11/1/2021', '12/1/2021', '1/22/2022', '2/22/2022', '3/22/2022', '4/22/2022', '5/22/2022', '6/22/2022', '7/22/2022', '8/22/2022', '9/22/2022', '10/22/2022']\n"
     ]
    }
   ],
   "source": [
    "print(housing_df.columns.tolist())"
   ]
  },
  {
   "cell_type": "code",
   "execution_count": 32,
   "metadata": {},
   "outputs": [],
   "source": [
    "#housing_drp = housing_df.dropna(axis= 0, how='all')\n",
    "housing_df.to_csv('Median_HSNG_CLEAN_DRAFT.csv')"
   ]
  },
  {
   "cell_type": "code",
   "execution_count": null,
   "metadata": {},
   "outputs": [],
   "source": []
  },
  {
   "cell_type": "code",
   "execution_count": null,
   "metadata": {},
   "outputs": [],
   "source": []
  }
 ],
 "metadata": {
  "kernelspec": {
   "display_name": "Python 3.9.12 ('base')",
   "language": "python",
   "name": "python3"
  },
  "language_info": {
   "codemirror_mode": {
    "name": "ipython",
    "version": 3
   },
   "file_extension": ".py",
   "mimetype": "text/x-python",
   "name": "python",
   "nbconvert_exporter": "python",
   "pygments_lexer": "ipython3",
   "version": "3.9.12"
  },
  "orig_nbformat": 4,
  "vscode": {
   "interpreter": {
    "hash": "4daae1b66c506e87a5be1f32d74cd8eae50cc104e7abc0f3b5adb5a3882f7b5c"
   }
  }
 },
 "nbformat": 4,
 "nbformat_minor": 2
}
